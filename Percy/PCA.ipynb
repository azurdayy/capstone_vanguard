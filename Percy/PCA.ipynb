{
 "cells": [
  {
   "cell_type": "code",
   "execution_count": null,
   "id": "63ee8992-5c85-4aba-b6da-dbacb9a2d64c",
   "metadata": {},
   "outputs": [],
   "source": [
    "import pandas as pd\n",
    "import numpy as np\n",
    "from sklearn.decomposition import PCA\n",
    "from sklearn.preprocessing import StandardScaler"
   ]
  },
  {
   "cell_type": "code",
   "execution_count": null,
   "id": "6f81bc03-e3fc-4060-9e5d-beb8db3418a6",
   "metadata": {},
   "outputs": [],
   "source": [
    "# Step 1: Drop rows with any NaN values\n",
    "features = combined_features.dropna(axis=0, how=\"any\")\n",
    "\n",
    "# Step 2: No imputation, just keep the clean rows\n",
    "features_imputed = features.copy()\n",
    "\n",
    "# Step 3: Standardize\n",
    "scaler = StandardScaler()\n",
    "X_scaled = scaler.fit_transform(features_imputed)\n",
    "\n",
    "# Step 4: Run PCA\n",
    "pca = PCA()\n",
    "pca.fit(X_scaled)\n",
    "\n",
    "# Explained variance\n",
    "explained_var = np.cumsum(pca.explained_variance_ratio_)\n",
    "\n",
    "# Step 5: Choose number of components (≥90% variance explained)\n",
    "threshold = 0.9\n",
    "n_components = np.argmax(explained_var >= threshold) + 1\n",
    "print(f\"Keeping {n_components} components to explain ≥{threshold*100}% variance.\")\n",
    "\n",
    "# Step 6: Loadings\n",
    "loadings = pd.DataFrame(\n",
    "    pca.components_[:n_components].T,\n",
    "    index=features.columns,\n",
    "    columns=[f\"PC{i+1}\" for i in range(n_components)]\n",
    ")\n",
    "\n",
    "importance = (loadings**2).sum(axis=1).sort_values(ascending=False)\n",
    "\n",
    "# Step 7: Select top features\n",
    "top_features = importance.head(39)\n",
    "print(\"\\nTop features by PCA importance:\")\n",
    "print(top_features)\n",
    "\n",
    "selected_features = features[top_features.index]"
   ]
  }
 ],
 "metadata": {
  "kernelspec": {
   "display_name": "Python 3 (ipykernel)",
   "language": "python",
   "name": "python3"
  },
  "language_info": {
   "codemirror_mode": {
    "name": "ipython",
    "version": 3
   },
   "file_extension": ".py",
   "mimetype": "text/x-python",
   "name": "python",
   "nbconvert_exporter": "python",
   "pygments_lexer": "ipython3",
   "version": "3.10.9"
  }
 },
 "nbformat": 4,
 "nbformat_minor": 5
}
